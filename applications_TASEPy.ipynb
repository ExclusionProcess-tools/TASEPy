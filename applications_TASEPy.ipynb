{
 "cells": [
  {
   "cell_type": "markdown",
   "id": "affae1ef",
   "metadata": {},
   "source": [
    "# TASEPy applications"
   ]
  },
  {
   "cell_type": "code",
   "execution_count": null,
   "id": "856dabd1",
   "metadata": {},
   "outputs": [],
   "source": [
    "As an application of TASEPy package, we show how to infer the initiation ra"
   ]
  },
  {
   "cell_type": "code",
   "execution_count": 59,
   "id": "17be8882",
   "metadata": {},
   "outputs": [],
   "source": [
    "# import methods from TASEPy\n",
    "\n",
    "from TASEPy import psa_compute\n",
    "from TASEPy import local_density\n",
    "from TASEPy import mean_density\n",
    "from TASEPy import current\n",
    "\n",
    "# to measure computation time\n",
    "import time \n",
    "\n",
    "# root finding algorithm\n",
    "from scipy import optimize # to "
   ]
  },
  {
   "cell_type": "markdown",
   "id": "3d9de1ff",
   "metadata": {},
   "source": [
    "First, we import a file containing hopping rates for the YAL008W gene of *S. cerevisiae*, which have been estimated in Ciandrini L, Stansfield I, Romano MC (2013) Ribosome Traffic on mRNAs Maps to Gene Ontology: Genome-wide Quantification of Translation Initiation Rates and Polysome Size Regulation. PLoS Comput Biol 9(1): e1002866. https://doi.org/10.1371/journal.pcbi.1002866"
   ]
  },
  {
   "cell_type": "code",
   "execution_count": 46,
   "id": "82e7f904",
   "metadata": {},
   "outputs": [],
   "source": [
    "# imports hopping rates\n",
    "\n",
    "file = open('applications/YAL008W_rates.dat','r')\n",
    "\n",
    "rates = []\n",
    "for line in file:\n",
    "    linelist = line.split()\n",
    "    codon = linelist[0]\n",
    "    rate = float(linelist[1])\n",
    "    rates.append(rate)\n",
    "file.close()"
   ]
  },
  {
   "cell_type": "markdown",
   "id": "664f09ae",
   "metadata": {},
   "source": [
    "Next, we set particle size $\\ell=9$ as in the reference above, and choose the order of PSA $K=3$. This takes about 11 seconds to solve on a laptop."
   ]
  },
  {
   "cell_type": "code",
   "execution_count": 95,
   "id": "b5201b21",
   "metadata": {},
   "outputs": [
    {
     "name": "stdout",
     "output_type": "stream",
     "text": [
      "Lattice size: 198 codons\n",
      "Computation time: 11.16 seconds\n"
     ]
    }
   ],
   "source": [
    "# computes the PSA for order K = 3\n",
    "\n",
    "L = len(rates) # lattice size\n",
    "ll = 9 # particle size\n",
    "K = 3 # maximum PSA order\n",
    "\n",
    "print('Lattice size:',L,'codons')\n",
    "\n",
    "start = time.time()\n",
    "rhocoeff, Jcoeff = psa_compute(rates, K, ll)\n",
    "end = time.time()\n",
    "print('Computation time:',round(end-start,3),'seconds')"
   ]
  },
  {
   "cell_type": "code",
   "execution_count": 96,
   "id": "c8583586",
   "metadata": {},
   "outputs": [
    {
     "name": "stdout",
     "output_type": "stream",
     "text": [
      "[0.0, 0.1806069864721105, -0.20947619500711065, 0.32647921092495436]\n"
     ]
    }
   ],
   "source": [
    "# computes mean density coefficients\n",
    "\n",
    "mean_rhocoeff = []\n",
    "for order in range(0,K+1):\n",
    "    rhocoeff_sum = 0\n",
    "    for site in range(L):\n",
    "        rhocoeff_sum += rhocoeff[site][order]\n",
    "    mean_rhocoeff.append(rhocoeff_sum/L)\n",
    "print(mean_rhocoeff)"
   ]
  },
  {
   "cell_type": "markdown",
   "id": "e8a874cb",
   "metadata": {},
   "source": [
    "Next, we set up the function whose root we want to find: $f(x)=\\rho(x)-\\rho_{\\text{exp}}$, where $\\rho(x)$ is the mean density computed using TASEPy for a given value of the initiation rate $x$, and $\\rho_{\\text{exp}}$ is the mean density measured experimentally, see the cited Ciandrini L et (2013) reference for more details. Since $f(x)$ is a polynomial, we can also find it derivative, in which case we can use the Newton-Raphson method for solving $f(x)=0$."
   ]
  },
  {
   "cell_type": "code",
   "execution_count": 87,
   "id": "0ed5115d",
   "metadata": {},
   "outputs": [],
   "source": [
    "# experimental mean density\n",
    "rhoexp = 0.023226\n",
    "\n",
    "def f(x,a):\n",
    "    result = -rhoexp\n",
    "    for order,coeff in enumerate(a):\n",
    "        result += coeff * x**order\n",
    "    return result\n",
    "\n",
    "def fprime(x,a):\n",
    "    result = 0\n",
    "    for order,coeff in enumerate(a):\n",
    "        if order > 0:\n",
    "            result += coeff * order * x**(order-1)\n",
    "    return result"
   ]
  },
  {
   "cell_type": "markdown",
   "id": "79284ac4",
   "metadata": {},
   "source": [
    "As the initial guess, we can use the first-order approximation of the PSA."
   ]
  },
  {
   "cell_type": "code",
   "execution_count": 98,
   "id": "02a723a6",
   "metadata": {},
   "outputs": [
    {
     "name": "stdout",
     "output_type": "stream",
     "text": [
      "Initial value: 0.12859967631200458\n"
     ]
    }
   ],
   "source": [
    "# initial guess\n",
    "x0 = rhoexp/mean_rhocoeff[1]\n",
    "print('Initial value:',x0)"
   ]
  },
  {
   "cell_type": "markdown",
   "id": "32c439ab",
   "metadata": {},
   "source": [
    "Finally, we call the optimize function from the scipy package to find the root."
   ]
  },
  {
   "cell_type": "code",
   "execution_count": 92,
   "id": "3764dff2",
   "metadata": {},
   "outputs": [
    {
     "name": "stdout",
     "output_type": "stream",
     "text": [
      "Optimal value: 0.14818676243771686\n"
     ]
    }
   ],
   "source": [
    "alpha = optimize.newton(f, x0, fprime, args=(mean_rhocoeff,))\n",
    "print('Optimal value:',alpha)"
   ]
  },
  {
   "cell_type": "markdown",
   "id": "b0978b5f",
   "metadata": {},
   "source": [
    "This value is very close to the one obtained from stochastic simulations in the cited Ciandrini et al (2013) paper. The relative error is about 1.5\\%."
   ]
  },
  {
   "cell_type": "code",
   "execution_count": 93,
   "id": "c7863039",
   "metadata": {},
   "outputs": [
    {
     "name": "stdout",
     "output_type": "stream",
     "text": [
      "Relative percentage error:  1.5363806817873418\n"
     ]
    }
   ],
   "source": [
    "# value reported in Ciandrini L, Stansfield I, Romano MC (2013) \n",
    "# Ribosome Traffic on mRNAs Maps to Gene Ontology: Genome-wide \n",
    "# Quantification of Translation Initiation Rates and Polysome \n",
    "# Size Regulation. PLoS Comput Biol 9(1): e1002866. \n",
    "# https://doi.org/10.1371/journal.pcbi.1002866\n",
    "\n",
    "alpha_paper = 0.150499\n",
    "per_err = 100 * abs(alpha_paper-alpha)/alpha_paper\n",
    "print('Relative percentage error: ',per_err)"
   ]
  },
  {
   "cell_type": "code",
   "execution_count": null,
   "id": "5c448a50",
   "metadata": {},
   "outputs": [],
   "source": []
  }
 ],
 "metadata": {
  "kernelspec": {
   "display_name": "Python 3 (ipykernel)",
   "language": "python",
   "name": "python3"
  },
  "language_info": {
   "codemirror_mode": {
    "name": "ipython",
    "version": 3
   },
   "file_extension": ".py",
   "mimetype": "text/x-python",
   "name": "python",
   "nbconvert_exporter": "python",
   "pygments_lexer": "ipython3",
   "version": "3.9.15"
  }
 },
 "nbformat": 4,
 "nbformat_minor": 5
}
