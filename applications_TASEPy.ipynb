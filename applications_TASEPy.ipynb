{
 "cells": [
  {
   "cell_type": "markdown",
   "id": "4ed33961",
   "metadata": {},
   "source": [
    "# TASEPy applications: estimating the ribosome initiation rate $\\alpha$ from experimental data"
   ]
  },
  {
   "cell_type": "markdown",
   "id": "6eddb3fe",
   "metadata": {},
   "source": [
    "The totally asymmetric simple exclusion process (TASEP) has been introduced as a model of biopolymerization, where the mRNA is represented as a one-dimensional lattice with discrete sites corresponding to codons. The dynamics of ribosomes on the mRNA is modeled with particles moving from site to site on the lattice.\n",
    "\n",
    "As an application of the TASEPy package, we demonstrate how to infer the initiation rate $\\alpha$ when the hopping rates $\\omega_i$ (representing codon-dependent ribosome speed) and the mean density $\\rho$ (indicating the average number of ribosomes divided by the length of the mRNA in codon units) are known. We illustrate this in the context of mRNA translation, where the mean ribosome density has been measured using polysome profiling, and the codon-dependent hopping rates have been estimated based on tRNA concentrations.\n",
    "\n",
    "Thus, by predicring $\\rho(\\alpha)$ with TASEPy and with the experimental value $\\rho_\\textrm{exp}$, we can infer the value of $\\alpha$."
   ]
  },
  {
   "cell_type": "code",
   "execution_count": 1,
   "id": "9588f626",
   "metadata": {},
   "outputs": [],
   "source": [
    "# import methods from TASEPy\n",
    "\n",
    "from TASEPy import psa_compute\n",
    "from TASEPy import local_density\n",
    "from TASEPy import mean_density\n",
    "from TASEPy import current\n",
    "\n",
    "# to measure computation time\n",
    "import time \n",
    "\n",
    "# root finding algorithm\n",
    "from scipy import optimize"
   ]
  },
  {
   "cell_type": "markdown",
   "id": "72b493d3",
   "metadata": {},
   "source": [
    "First, we import a file containing hopping rates for the YAL008W gene of *S. cerevisiae*, which have been estimated in Ciandrini L, Stansfield I, Romano MC (2013) *Ribosome Traffic on mRNAs Maps to Gene Ontology: Genome-wide Quantification of Translation Initiation Rates and Polysome Size Regulation*. PLoS Comput Biol 9(1): e1002866. https://doi.org/10.1371/journal.pcbi.1002866"
   ]
  },
  {
   "cell_type": "code",
   "execution_count": 2,
   "id": "ddd9e56f",
   "metadata": {},
   "outputs": [],
   "source": [
    "# imports hopping rates YAL008W_rates.dat\n",
    "\n",
    "with open('applications/YAL008W_rates.dat', 'r') as file:\n",
    "    rates = [float(line.split()[1]) for line in file]"
   ]
  },
  {
   "cell_type": "markdown",
   "id": "c8396870",
   "metadata": {},
   "source": [
    "Next, we set particle size $\\ell=9$ as in the reference above, and choose the order of PSA $K=3$. This takes about 11 seconds to solve on a laptop Intel(R) Core(TM) i7-8565U CPU @ 1.80GHz with 16 GB of RAM, less than 7 seconds on an Apple M1 Pro with 32 GB of RAM."
   ]
  },
  {
   "cell_type": "code",
   "execution_count": 3,
   "id": "edcc836b",
   "metadata": {},
   "outputs": [
    {
     "name": "stdout",
     "output_type": "stream",
     "text": [
      "Lattice size: 198 codons\n",
      "Computation time: 6.775 seconds\n"
     ]
    }
   ],
   "source": [
    "# computes the PSA for order K = 3\n",
    "\n",
    "L = len(rates) # lattice size\n",
    "ll = 9 # particle size\n",
    "K = 3 # maximum PSA order\n",
    "\n",
    "print('Lattice size:',L,'codons')\n",
    "\n",
    "start = time.time()\n",
    "rhocoeff, Jcoeff = psa_compute(rates, K, ll)\n",
    "end = time.time()\n",
    "print('Computation time:',round(end-start,3),'seconds')"
   ]
  },
  {
   "cell_type": "markdown",
   "id": "973bbfee",
   "metadata": {},
   "source": [
    "We then need to compute the mean density coefficients $\\rho_n$ from all the $\\rho_{i,n}$ as in Eq.(25c) of the paper introducing the algorothm used in TASEPy (Ciandrini, Crisostomo and Szavits-Nossan 2023)."
   ]
  },
  {
   "cell_type": "code",
   "execution_count": 4,
   "id": "e0eb7dc4",
   "metadata": {},
   "outputs": [
    {
     "name": "stdout",
     "output_type": "stream",
     "text": [
      "[0.0, 0.1806069864721105, -0.20947619500711065, 0.32647921092495436]\n"
     ]
    }
   ],
   "source": [
    "# computes mean density coefficients\n",
    "\n",
    "mean_rhocoeff = []\n",
    "for order in range(0,K+1):\n",
    "    rhocoeff_sum = 0\n",
    "    for site in range(L):\n",
    "        rhocoeff_sum += rhocoeff[site][order]\n",
    "    mean_rhocoeff.append(rhocoeff_sum/L)\n",
    "print(mean_rhocoeff)"
   ]
  },
  {
   "cell_type": "markdown",
   "id": "f030a787",
   "metadata": {},
   "source": [
    "Next, we set up the function whose root we want to find: $f(\\alpha)=\\rho(\\alpha)-\\rho_{\\text{exp}}$, where $\\rho(\\alpha)$ is the mean density computed using TASEPy for a given value of the initiation rate $\\alpha$, and $\\rho_{\\text{exp}}$ is the mean density measured experimentally, see the cited Ciandrini et (2013) reference for more details. Since $f(\\alpha)$ is a polynomial, we can also find its derivative, in which case we can use the Newton-Raphson method for solving $f(\\alpha)=0$."
   ]
  },
  {
   "cell_type": "code",
   "execution_count": 5,
   "id": "2d2df6b5",
   "metadata": {},
   "outputs": [],
   "source": [
    "# experimental mean density\n",
    "rhoexp = 0.023226\n",
    "\n",
    "# in the functions below x is the initation rate (alpha)\n",
    "def f(x,a):\n",
    "    result = -rhoexp\n",
    "    for order,coeff in enumerate(a):\n",
    "        result += coeff * x**order\n",
    "    return result\n",
    "\n",
    "def fprime(x,a):\n",
    "    result = 0\n",
    "    for order,coeff in enumerate(a):\n",
    "        if order > 0:\n",
    "            result += coeff * order * x**(order-1)\n",
    "    return result"
   ]
  },
  {
   "cell_type": "markdown",
   "id": "74439bf8",
   "metadata": {},
   "source": [
    "As the initial guess, we can use the first-order approximation of the PSA."
   ]
  },
  {
   "cell_type": "code",
   "execution_count": 6,
   "id": "feb1231b",
   "metadata": {},
   "outputs": [
    {
     "name": "stdout",
     "output_type": "stream",
     "text": [
      "Initial value: 0.12859967631200458\n"
     ]
    }
   ],
   "source": [
    "# initial guess\n",
    "alpha0 = rhoexp/mean_rhocoeff[1]\n",
    "print('Initial value:',alpha0)"
   ]
  },
  {
   "cell_type": "markdown",
   "id": "a9e4e3cd",
   "metadata": {},
   "source": [
    "Finally, we call the optimize function from the scipy package to find the root."
   ]
  },
  {
   "cell_type": "code",
   "execution_count": 7,
   "id": "9c74cb36",
   "metadata": {},
   "outputs": [
    {
     "name": "stdout",
     "output_type": "stream",
     "text": [
      "Optimal value: 0.14818676243771686\n"
     ]
    }
   ],
   "source": [
    "alpha = optimize.newton(f, alpha0, fprime, args=(mean_rhocoeff,))\n",
    "print('Optimal value:',alpha)"
   ]
  },
  {
   "cell_type": "markdown",
   "id": "2b366f01",
   "metadata": {},
   "source": [
    "This value is very close to the one obtained from stochastic simulations in the cited Ciandrini et al (2013) paper. The relative error is about 1.5\\%."
   ]
  },
  {
   "cell_type": "code",
   "execution_count": 8,
   "id": "957eb3a1",
   "metadata": {},
   "outputs": [
    {
     "name": "stdout",
     "output_type": "stream",
     "text": [
      "Relative percentage error:  1.5363806817873418\n"
     ]
    }
   ],
   "source": [
    "# value reported in Ciandrini L, Stansfield I, Romano MC (2013) \n",
    "# Ribosome Traffic on mRNAs Maps to Gene Ontology: Genome-wide \n",
    "# Quantification of Translation Initiation Rates and Polysome \n",
    "# Size Regulation. PLoS Comput Biol 9(1): e1002866. \n",
    "# https://doi.org/10.1371/journal.pcbi.1002866\n",
    "\n",
    "alpha_paper = 0.150499\n",
    "per_err = 100 * abs(alpha_paper-alpha)/alpha_paper\n",
    "print('Relative percentage error: ',per_err)"
   ]
  }
 ],
 "metadata": {
  "kernelspec": {
   "display_name": "Python 3 (ipykernel)",
   "language": "python",
   "name": "python3"
  },
  "language_info": {
   "codemirror_mode": {
    "name": "ipython",
    "version": 3
   },
   "file_extension": ".py",
   "mimetype": "text/x-python",
   "name": "python",
   "nbconvert_exporter": "python",
   "pygments_lexer": "ipython3",
   "version": "3.9.7"
  }
 },
 "nbformat": 4,
 "nbformat_minor": 5
}
