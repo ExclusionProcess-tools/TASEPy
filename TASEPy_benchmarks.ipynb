{
 "cells": [
  {
   "cell_type": "markdown",
   "id": "167da728",
   "metadata": {},
   "source": [
    "# TASEPy benchmark"
   ]
  },
  {
   "cell_type": "code",
   "execution_count": 1,
   "id": "32ed9e40",
   "metadata": {},
   "outputs": [],
   "source": [
    "from TASEPy import psa_compute\n",
    "from TASEPy import local_density\n",
    "from TASEPy import mean_density\n",
    "from TASEPy import current\n",
    "\n",
    "import csv\n",
    "from tabulate import tabulate"
   ]
  },
  {
   "cell_type": "markdown",
   "id": "6ec2ca97",
   "metadata": {},
   "source": [
    "## Benchmark 1: exact results for a small system"
   ]
  },
  {
   "cell_type": "markdown",
   "id": "6e597e05",
   "metadata": {},
   "source": [
    "### Example 1: L = 4 and $\\ell$ = 1"
   ]
  },
  {
   "cell_type": "code",
   "execution_count": 2,
   "id": "8cdd7a77",
   "metadata": {},
   "outputs": [
    {
     "name": "stdout",
     "output_type": "stream",
     "text": [
      "Maximum order of the PSA: K = 5\n",
      "Hopping rates are [1.88, 1.52, 1.09, 1.38]\n"
     ]
    }
   ],
   "source": [
    "# imports hopping rates (example L=4 and ll=1)\n",
    "\n",
    "file = open('exact/rates_L4_ll1.csv','r')\n",
    "reader=csv.reader(file)\n",
    "\n",
    "rates = []\n",
    "for lines in reader:\n",
    "    rates.append(float(lines[0]))\n",
    "file.close()\n",
    "\n",
    "# imports exact local density coefficients (example L=4 and ll=1) \n",
    "\n",
    "file = open('exact/rho-coeff_L4_ll1.csv','r')\n",
    "reader=csv.reader(file)\n",
    "\n",
    "rhocoeff1 = []\n",
    "for lines in reader:\n",
    "    rhocoeff1.append([float(x) for x in lines])\n",
    "file.close()\n",
    "\n",
    "# imports exact particle current coefficients (example L=4 and ll=1)\n",
    "\n",
    "file = open('exact/current-coeff_L4_ll1.csv','r')\n",
    "reader=csv.reader(file)\n",
    "\n",
    "Jcoeff1 = []\n",
    "for row in reader:\n",
    "    Jcoeff1.append([float(x) for x in row])\n",
    "file.close()\n",
    "Jcoeff1 = Jcoeff1[0]\n",
    "\n",
    "print('Maximum order of the PSA: K =',len(rhocoeff1[0])-1)\n",
    "print('Hopping rates are',rates)"
   ]
  },
  {
   "cell_type": "code",
   "execution_count": 3,
   "id": "07b9ddad",
   "metadata": {},
   "outputs": [],
   "source": [
    "# computes the PSA for order K = 5\n",
    "\n",
    "L = 4 # lattice size\n",
    "ll = 1 # particle size\n",
    "K = 5 # maximum PSA order\n",
    "\n",
    "rhocoeff2, Jcoeff2 = psa_compute(rates, K, ll)"
   ]
  },
  {
   "cell_type": "code",
   "execution_count": 4,
   "id": "4cf40404",
   "metadata": {},
   "outputs": [
    {
     "name": "stdout",
     "output_type": "stream",
     "text": [
      "Exact results:\n",
      "  order 0    order 1    order 2    order 3    order 4    order 5\n",
      "---------  ---------  ---------  ---------  ---------  ---------\n",
      "        0   0.531915   0.149892   0.846462  -1.08538   -4.66958\n",
      "        0   0.657895   0.564896   0.134411  -3.24941    1.19327\n",
      "        0   0.917431   0.176094  -0.902102  -0.936768   0.818141\n",
      "        0   0.724638  -0.385446  -0.108617  -0.613378   0.786505\n",
      "\n",
      "TASEPy results:\n",
      "  order 0    order 1    order 2    order 3    order 4    order 5\n",
      "---------  ---------  ---------  ---------  ---------  ---------\n",
      "        0   0.531915   0.149892   0.846462  -1.08538   -4.66958\n",
      "        0   0.657895   0.564896   0.134411  -3.24941    1.19327\n",
      "        0   0.917431   0.176094  -0.902102  -0.936768   0.818141\n",
      "        0   0.724638  -0.385446  -0.108617  -0.613378   0.786505\n"
     ]
    }
   ],
   "source": [
    "# compares the local density\n",
    "\n",
    "print('Exact results:')\n",
    "print(tabulate(rhocoeff1, headers = ['order ' + str(x) for x in range(K+1)])) # exact results\n",
    "\n",
    "print()\n",
    "print('TASEPy results:')\n",
    "print(tabulate(rhocoeff2, headers = ['order ' + str(x) for x in range(K+1)])) # TASEPy"
   ]
  },
  {
   "cell_type": "code",
   "execution_count": 5,
   "id": "c1f3c0af",
   "metadata": {},
   "outputs": [
    {
     "name": "stdout",
     "output_type": "stream",
     "text": [
      "Exact results:\n",
      "  order 0    order 1    order 2    order 3    order 4    order 5\n",
      "---------  ---------  ---------  ---------  ---------  ---------\n",
      "        1  -0.531915  -0.149892  -0.846462    1.08538    4.66958\n",
      "\n",
      "TASEPy results:\n",
      "  order 0    order 1    order 2    order 3    order 4    order 5\n",
      "---------  ---------  ---------  ---------  ---------  ---------\n",
      "        1  -0.531915  -0.149892  -0.846462    1.08538    4.66958\n"
     ]
    }
   ],
   "source": [
    "# compares the particle current\n",
    "\n",
    "print('Exact results:')\n",
    "print(tabulate([Jcoeff1], headers = ['order ' + str(x) for x in range(K+1)])) # exact results\n",
    "\n",
    "print()\n",
    "print('TASEPy results:')\n",
    "print(tabulate([Jcoeff2], headers = ['order ' + str(x) for x in range(K+1)])) # TASEPy"
   ]
  },
  {
   "cell_type": "markdown",
   "id": "d03b85ef",
   "metadata": {},
   "source": [
    "### Example 2: L = 4 and $\\ell = 2$"
   ]
  },
  {
   "cell_type": "code",
   "execution_count": 6,
   "id": "5ce9c7c8",
   "metadata": {},
   "outputs": [
    {
     "name": "stdout",
     "output_type": "stream",
     "text": [
      "Maximum order of the PSA: K = 5\n",
      "Hopping rates are [1.88, 1.52, 1.09, 1.38]\n"
     ]
    }
   ],
   "source": [
    "# imports hopping rates (example L=4 and ll=1)\n",
    "\n",
    "file = open('exact/rates_L4_ll2.csv','r')\n",
    "reader=csv.reader(file)\n",
    "\n",
    "rates = []\n",
    "for lines in reader:\n",
    "    rates.append(float(lines[0]))\n",
    "file.close()\n",
    "\n",
    "# imports exact local density coefficients (example L=4 and ll=1) \n",
    "\n",
    "file = open('exact/rho-coeff_L4_ll2.csv','r')\n",
    "reader=csv.reader(file)\n",
    "\n",
    "rhocoeff1 = []\n",
    "for lines in reader:\n",
    "    rhocoeff1.append([float(x) for x in lines])\n",
    "file.close()\n",
    "\n",
    "# imports exact particle current coefficients (example L=4 and ll=1)\n",
    "\n",
    "file = open('exact/current-coeff_L4_ll2.csv','r')\n",
    "reader=csv.reader(file)\n",
    "\n",
    "Jcoeff1 = []\n",
    "for row in reader:\n",
    "    Jcoeff1.append([float(x) for x in row])\n",
    "file.close()\n",
    "Jcoeff1 = Jcoeff1[0]\n",
    "\n",
    "print('Maximum order of the PSA: K =',len(rhocoeff1[0])-1)\n",
    "print('Hopping rates are',rates)"
   ]
  },
  {
   "cell_type": "code",
   "execution_count": 7,
   "id": "c4d931dc",
   "metadata": {},
   "outputs": [],
   "source": [
    "# computes the PSA for order K = 5\n",
    "\n",
    "L = 4 # lattice size\n",
    "ll = 2 # particle size\n",
    "K = 5 # maximum PSA order\n",
    "\n",
    "rhocoeff2, Jcoeff2 = psa_compute(rates, K, ll)"
   ]
  },
  {
   "cell_type": "code",
   "execution_count": 8,
   "id": "6bfa3c7e",
   "metadata": {},
   "outputs": [
    {
     "name": "stdout",
     "output_type": "stream",
     "text": [
      "Exact results:\n",
      "  order 0    order 1     order 2     order 3    order 4    order 5\n",
      "---------  ---------  ----------  ----------  ---------  ---------\n",
      "        0   0.531915   0.208803   -1.83332      3.43302   -2.47067\n",
      "        0   0.657895  -0.0965666  -1.73927      4.22138   -4.58057\n",
      "        0   0.917431  -1.09157    -0.102969     3.27761   -7.02239\n",
      "        0   0.724638  -0.862181   -0.0813304    2.58883   -5.54667\n",
      "\n",
      "TASEPy results:\n",
      "  order 0    order 1     order 2     order 3    order 4    order 5\n",
      "---------  ---------  ----------  ----------  ---------  ---------\n",
      "        0   0.531915   0.208803   -1.83332      3.43302   -2.47067\n",
      "        0   0.657895  -0.0965666  -1.73927      4.22138   -4.58057\n",
      "        0   0.917431  -1.09157    -0.102969     3.27761   -7.02239\n",
      "        0   0.724638  -0.862181   -0.0813304    2.58883   -5.54667\n"
     ]
    }
   ],
   "source": [
    "# compares the local density\n",
    "\n",
    "print('Exact results:')\n",
    "print(tabulate(rhocoeff1, headers = ['order ' + str(x) for x in range(6)])) # exact results\n",
    "\n",
    "print()\n",
    "print('TASEPy results:')\n",
    "print(tabulate(rhocoeff2, headers = ['order ' + str(x) for x in range(6)])) # TASEPy"
   ]
  },
  {
   "cell_type": "code",
   "execution_count": 9,
   "id": "76bf82a4",
   "metadata": {},
   "outputs": [
    {
     "name": "stdout",
     "output_type": "stream",
     "text": [
      "Exact results:\n",
      "  order 0    order 1    order 2    order 3    order 4    order 5\n",
      "---------  ---------  ---------  ---------  ---------  ---------\n",
      "        1   -1.18981  -0.112236    3.57259   -7.65441    7.05124\n",
      "\n",
      "TASEPy results:\n",
      "  order 0    order 1    order 2    order 3    order 4    order 5\n",
      "---------  ---------  ---------  ---------  ---------  ---------\n",
      "        1   -1.18981  -0.112236    3.57259   -7.65441    7.05124\n"
     ]
    }
   ],
   "source": [
    "# compares the particle current\n",
    "\n",
    "print('Exact results:')\n",
    "print(tabulate([Jcoeff1], headers = ['order ' + str(x) for x in range(K+1)])) # exact results\n",
    "\n",
    "print()\n",
    "print('TASEPy results:')\n",
    "print(tabulate([Jcoeff2], headers = ['order ' + str(x) for x in range(K+1)])) # TASEPy"
   ]
  },
  {
   "cell_type": "markdown",
   "id": "465ba083",
   "metadata": {},
   "source": [
    "### Example 3: L = 4 and $\\ell = 3$"
   ]
  },
  {
   "cell_type": "code",
   "execution_count": 10,
   "id": "74f5845a",
   "metadata": {},
   "outputs": [
    {
     "name": "stdout",
     "output_type": "stream",
     "text": [
      "Maximum order of the PSA: K = 5\n",
      "Hopping rates are [1.88, 1.52, 1.09, 1.38]\n"
     ]
    }
   ],
   "source": [
    "# imports hopping rates (example L=4 and ll=1)\n",
    "\n",
    "file = open('exact/rates_L4_ll3.csv','r')\n",
    "reader=csv.reader(file)\n",
    "\n",
    "rates = []\n",
    "for lines in reader:\n",
    "    rates.append(float(lines[0]))\n",
    "file.close()\n",
    "\n",
    "# imports exact local density coefficients (example L=4 and ll=1) \n",
    "\n",
    "file = open('exact/rho-coeff_L4_ll3.csv','r')\n",
    "reader=csv.reader(file)\n",
    "\n",
    "rhocoeff1 = []\n",
    "for lines in reader:\n",
    "    rhocoeff1.append([float(x) for x in lines])\n",
    "file.close()\n",
    "\n",
    "# imports exact particle current coefficients (example L=4 and ll=1)\n",
    "\n",
    "file = open('exact/current-coeff_L4_ll3.csv','r')\n",
    "reader=csv.reader(file)\n",
    "\n",
    "Jcoeff1 = []\n",
    "for row in reader:\n",
    "    Jcoeff1.append([float(x) for x in row])\n",
    "file.close()\n",
    "Jcoeff1 = Jcoeff1[0]\n",
    "\n",
    "print('Maximum order of the PSA: K =',len(rhocoeff1[0])-1)\n",
    "print('Hopping rates are',rates)"
   ]
  },
  {
   "cell_type": "code",
   "execution_count": 11,
   "id": "004f27db",
   "metadata": {},
   "outputs": [],
   "source": [
    "# computes the PSA for order K = 5\n",
    "\n",
    "L = 4 # lattice size\n",
    "ll = 3 # particle size\n",
    "K = 5 # maximum PSA order\n",
    "\n",
    "rhocoeff2, Jcoeff2 = psa_compute(rates, K, ll)"
   ]
  },
  {
   "cell_type": "code",
   "execution_count": 12,
   "id": "1675e26c",
   "metadata": {},
   "outputs": [
    {
     "name": "stdout",
     "output_type": "stream",
     "text": [
      "Exact results:\n",
      "  order 0    order 1    order 2    order 3    order 4     order 5\n",
      "---------  ---------  ---------  ---------  ---------  ----------\n",
      "        0   0.531915  -0.595773   0.595622  -0.464151   0.0921524\n",
      "        0   0.657895  -1.38634    2.5759    -4.44973    7.31514\n",
      "        0   0.917431  -1.93325    3.59208   -6.20513   10.2009\n",
      "        0   0.724638  -1.52699    2.83722   -4.90116    8.05726\n",
      "\n",
      "TASEPy results:\n",
      "  order 0    order 1    order 2    order 3    order 4     order 5\n",
      "---------  ---------  ---------  ---------  ---------  ----------\n",
      "        0   0.531915  -0.595773   0.595622  -0.464151   0.0921524\n",
      "        0   0.657895  -1.38634    2.5759    -4.44973    7.31514\n",
      "        0   0.917431  -1.93325    3.59208   -6.20513   10.2009\n",
      "        0   0.724638  -1.52699    2.83722   -4.90116    8.05726\n"
     ]
    }
   ],
   "source": [
    "# compares the local density\n",
    "\n",
    "print('Exact results:')\n",
    "print(tabulate(rhocoeff1, headers = ['order ' + str(x) for x in range(6)])) # exact results\n",
    "\n",
    "print()\n",
    "print('TASEPy results:')\n",
    "print(tabulate(rhocoeff2, headers = ['order ' + str(x) for x in range(6)])) # TASEPy"
   ]
  },
  {
   "cell_type": "code",
   "execution_count": 13,
   "id": "2dacfce0",
   "metadata": {},
   "outputs": [
    {
     "name": "stdout",
     "output_type": "stream",
     "text": [
      "Exact results:\n",
      "  order 0    order 1    order 2    order 3    order 4    order 5\n",
      "---------  ---------  ---------  ---------  ---------  ---------\n",
      "        1   -2.10724    3.91536    -6.7636     11.119   -17.6082\n",
      "\n",
      "TASEPy results:\n",
      "  order 0    order 1    order 2    order 3    order 4    order 5\n",
      "---------  ---------  ---------  ---------  ---------  ---------\n",
      "        1   -2.10724    3.91536    -6.7636     11.119   -17.6082\n"
     ]
    }
   ],
   "source": [
    "# compares the particle current\n",
    "\n",
    "print('Exact results:')\n",
    "print(tabulate([Jcoeff1], headers = ['order ' + str(x) for x in range(K+1)])) # exact results\n",
    "\n",
    "print()\n",
    "print('TASEPy results:')\n",
    "print(tabulate([Jcoeff2], headers = ['order ' + str(x) for x in range(K+1)])) # TASEPy"
   ]
  },
  {
   "cell_type": "code",
   "execution_count": null,
   "id": "299db2c3",
   "metadata": {},
   "outputs": [],
   "source": []
  },
  {
   "cell_type": "code",
   "execution_count": null,
   "id": "ca7bc065",
   "metadata": {},
   "outputs": [],
   "source": []
  }
 ],
 "metadata": {
  "kernelspec": {
   "display_name": "Python 3 (ipykernel)",
   "language": "python",
   "name": "python3"
  },
  "language_info": {
   "codemirror_mode": {
    "name": "ipython",
    "version": 3
   },
   "file_extension": ".py",
   "mimetype": "text/x-python",
   "name": "python",
   "nbconvert_exporter": "python",
   "pygments_lexer": "ipython3",
   "version": "3.9.7"
  }
 },
 "nbformat": 4,
 "nbformat_minor": 5
}
