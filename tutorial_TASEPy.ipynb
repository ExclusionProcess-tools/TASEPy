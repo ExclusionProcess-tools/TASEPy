{
 "cells": [
  {
   "cell_type": "markdown",
   "metadata": {},
   "source": [
    "# TASEPy tutorial\n",
    "\n",
    "In this notebook we run a short tutorial explaining how to compute particle densities and current using TASEPy. \n",
    "\n",
    "We consider a system with the following parameters:\n",
    "-  the lattice size $L = 100$,\n",
    "-  the hopping rates for each lattice site $\\omega_i$ are selected randomly between $1$ and $10$\n",
    "-  the particle size $\\ell = 1$ and\n",
    "-  the maximum order of the power-series approximation (PSA) $K=4$. \n",
    "\n",
    "This combination of parameters above takes less than a minute on Intel(R) Core(TM) i7-8565U CPU @ 1.80GHz with 16 GB of RAM. "
   ]
  },
  {
   "cell_type": "markdown",
   "metadata": {},
   "source": [
    "## 1. Parameter declaration\n",
    "We start by importing the necessary libraries and declaring the parameters explained above."
   ]
  },
  {
   "cell_type": "code",
   "execution_count": 1,
   "metadata": {},
   "outputs": [],
   "source": [
    "# import methods from TASEPy\n",
    "\n",
    "from TASEPy import psa_compute\n",
    "from TASEPy import total_coeffs\n",
    "from TASEPy import local_density\n",
    "from TASEPy import mean_density\n",
    "from TASEPy import current\n",
    "\n",
    "# import random number generator\n",
    "from statistics import random"
   ]
  },
  {
   "cell_type": "code",
   "execution_count": 2,
   "metadata": {},
   "outputs": [],
   "source": [
    "# declare parameters\n",
    "\n",
    "# lattice size\n",
    "L = 100\n",
    "\n",
    "# particle size (in lattice sites)\n",
    "ll = 1\n",
    "\n",
    "# list of particle hopping rates selected randomly from interval [1,10]\n",
    "random_seed = random.seed(1234)\n",
    "wlist = [random.uniform(1,10) for site in range(L)] \n",
    " \n",
    "# maximum order of the PSA\n",
    "K = 4"
   ]
  },
  {
   "cell_type": "markdown",
   "metadata": {},
   "source": [
    "## 2. Compute the PSA coefficients\n",
    "\n",
    "The core of TASEPy resides in the function `psa_compute(wlist, K, ll, save_coeffs, coeffs_file)`. This function takes the following inputs: `wlist` is the list of rates, `K` is the maximum order computed by the algorithm, `ll` is the particle size (default value is 1 if omitted), `save_coeffs` is a boolean variable specifying if the method should save probability coefficients in a file or not (default value is False if omitted), and `coeffs_file` is a string containing the name of that file (default value is 'Pcoeff.csv' if omitted). The lattice size $L$ is inferred from the size of `wlist`. The function computes all the coefficients $c_n(X)$ and returns 2 elements: (1) a 2d list containing the density coefficients $\\rho_{i,n}$ for all sites $i$ and orders $n$, and (2) a list containing the values of the current coefficients $J_n$. The coefficients $c_n(X)$ for $n=0,\\dots,K$ are computed using Eqs.(29)-(31) of the affiliated paper. The $\\rho_{i,n}$ and $J_n$ are computed using Eqs.(25). If `save_coeffs` is True, then the output file `coeffs_file` contains one row for each coefficient with the following structure: $n$, $X$, $c_n(X)$, where $X$ is a list of particle positions.\n",
    "\n",
    "In the following example the density and current coefficients are stored in the lists `rhocoeff` and `Jcoeff` respectively, which are defined as follows:\n",
    "- `rhocoeff[i]` is the list $[\\rho_{i+1, 0},\\ldots\\rho_{i+1, n}, \\ldots, \\rho_{i+1, K}]$ of density coefficients of the i-th order of the PSA (note that `rhocoeff[i]` corresponds to the lattice site $i+1$) and \n",
    "- `Jcoeff[i]` is the particle current coefficient of the i-th order of the PSA."
   ]
  },
  {
   "cell_type": "code",
   "execution_count": 3,
   "metadata": {},
   "outputs": [],
   "source": [
    "rhocoeff, Jcoeff = psa_compute(wlist, K, ll)"
   ]
  },
  {
   "cell_type": "code",
   "execution_count": 4,
   "metadata": {},
   "outputs": [
    {
     "name": "stdout",
     "output_type": "stream",
     "text": [
      "Density coefficients of lattice site 2 are: [0.0, 0.20134525236037026, 0.9398020417237882, -0.14961445438660803, -1.1931351947862368]\n"
     ]
    }
   ],
   "source": [
    "print('Density coefficients of lattice site 2 are:',rhocoeff[1])"
   ]
  },
  {
   "cell_type": "code",
   "execution_count": 5,
   "metadata": {},
   "outputs": [
    {
     "name": "stdout",
     "output_type": "stream",
     "text": [
      "Jcoeff =  [1.0, -0.10311317417543009, -0.029907583959470685, -1.0778682000745903, 1.3340057691566471]\n"
     ]
    }
   ],
   "source": [
    "print('Jcoeff = ', Jcoeff)"
   ]
  },
  {
   "cell_type": "markdown",
   "metadata": {},
   "source": [
    "If `save_coeffs` is set to `True`, the resulting file `coeffs_file` will store all non-zero $c_n(X)$ for all orders $n\\leq K$. For large lattice sizes this file may become very large. Hence, we advise using this option with caution, e.g. only for small lattice sizes or for small values of $K$. The number of coefficients that will be stored can be obtained by calling the function `total_coeffs(K, L, ll)`. For the example above, we get:"
   ]
  },
  {
   "cell_type": "code",
   "execution_count": 6,
   "metadata": {},
   "outputs": [
    {
     "data": {
      "text/plain": [
       "4259880"
      ]
     },
     "execution_count": 6,
     "metadata": {},
     "output_type": "execute_result"
    }
   ],
   "source": [
    "total_coeffs(K, L, ll)"
   ]
  },
  {
   "cell_type": "markdown",
   "metadata": {},
   "source": [
    "In this case, the file will have circa 4,300,000 lines (one line for each coefficient). Each line contains the order of the PSA $n$, the list of positions of all particles in the configuration $X$, and the coefficient for that configuration $c_n(X)$."
   ]
  },
  {
   "cell_type": "code",
   "execution_count": 7,
   "metadata": {},
   "outputs": [],
   "source": [
    "rhocoeff, Jcoeff = psa_compute(wlist, K, ll, True, 'test.csv')"
   ]
  },
  {
   "cell_type": "markdown",
   "metadata": {},
   "source": [
    "The size of the resulting file 'test.csv' is circa 173 MB, or about 43 bytes per line. Hence, a caution is need when setting the option to save coefficients, as the file size may be very large. We advise using this option only for small lattice sizes or for small values of $K$."
   ]
  },
  {
   "cell_type": "markdown",
   "metadata": {},
   "source": [
    "# 3. Plot density profile for a given value of $\\alpha$\n",
    "\n",
    "Here we chose a value of the initiation rate $\\alpha$ and use the coefficients in the list `rhocoeff` to compute density profiles for different orders of the PSA. We use the method `local_density(rhocoeff, alpha)` and write the output in `rho`. `rho` is a list, whose elements are density profiles computed for different orders. According to Eq. (25b) in the affiliated paper, \n",
    "\n",
    "\\begin{equation}\n",
    "    \\rho_i=\\sum_{n=0}^{\\infty}\\rho_{i,n}\\alpha^n,\\quad \\rho_{i,0}=0,\\quad \\rho_{i,n}=\\sum_{\\substack{C\\\\\\tau_i=1}}c_n(C),\\quad n\\geq 1. \\tag{25b}\n",
    "\\end{equation}\n",
    "\n",
    "Let us we denote by $\\rho_{i}^{(k)}=\\sum_{n=0}^{k}\\rho_{i,n}\\alpha^n$ the particle density at site $i$ truncated at $k$th order. Then `rho` is the list $[[\\rho_{1}^{(0)},\\ldots,\\rho_{L}^{(0)}],\\ldots,[\\rho_{1}^{(K)},\\ldots,\\rho_{L}^{(K)}]]$, where $K$ is the maximum order of the PSA. For instance, `rho[2]` contains the density profile computed up to and including the order $n=2$. Note that `rho[0]` should always return $[0,...,0]$."
   ]
  },
  {
   "cell_type": "code",
   "execution_count": 7,
   "metadata": {},
   "outputs": [],
   "source": [
    "alpha = 0.2\n",
    "rho = local_density(rhocoeff, alpha)"
   ]
  },
  {
   "cell_type": "markdown",
   "metadata": {},
   "source": [
    "The cell below plots density profile $\\rho_{i}^{(K)}$."
   ]
  },
  {
   "cell_type": "code",
   "execution_count": 8,
   "metadata": {},
   "outputs": [
    {
     "data": {
      "image/png": "[encoded data removed]",
      "text/plain": [
       "<Figure size 504x168 with 1 Axes>"
      ]
     },
     "metadata": {
      "needs_background": "light"
     },
     "output_type": "display_data"
    }
   ],
   "source": [
    "import matplotlib.pyplot as plt\n",
    "\n",
    "# Create a figure \n",
    "plt.figure(figsize=(7,7/3))\n",
    "\n",
    "# Plot the data\n",
    "\n",
    "sites = [x + 1 for x in range(L)]\n",
    "plt.plot(sites, rho[-1], linewidth=2, label='n=4' , color='C{}'.format(K-1))\n",
    "\n",
    "maxrho = max(rho[-1]) # maximum density needed to set the y-axis range\n",
    "plt.ylim(0,1.1*maxrho)\n",
    "\n",
    "plt.xlabel(r'lattice site $i$', fontsize=10)\n",
    "plt.ylabel(r'density $\\rho_{i}^{(K)}$', fontsize=10)\n",
    "\n",
    "# Set the title\n",
    "#plt.title(r'Density profile, $\\alpha = $'+str(alpha), fontsize=12)\n",
    "\n",
    "plt.legend(loc='best')\n",
    "plt.tight_layout()\n",
    "\n",
    "plt.show()"
   ]
  },
  {
   "cell_type": "markdown",
   "metadata": {},
   "source": [
    "The cell below plots density profiles for all orders up to `K`, the maximum order of the PSA. This can be useful to see how the subsequent orders improve the estimate of the local density."
   ]
  },
  {
   "cell_type": "code",
   "execution_count": 9,
   "metadata": {},
   "outputs": [
    {
     "data": {
      "image/png": "[encoded data removed]",
      "text/plain": [
       "<Figure size 504x168 with 1 Axes>"
      ]
     },
     "metadata": {
      "needs_background": "light"
     },
     "output_type": "display_data"
    }
   ],
   "source": [
    "import matplotlib.pyplot as plt\n",
    "\n",
    "# Create a figure \n",
    "plt.figure(figsize=(7,7/3))\n",
    "\n",
    "# Plot the data\n",
    "\n",
    "sites = [x + 1 for x in range(L)]\n",
    "\n",
    "for n in range(1,K+1):\n",
    "  plt.plot(sites, rho[n], label='n='+str(n), color='C{}'.format(n-1))\n",
    "\n",
    "maxrho = max([max(x) for x in rho]) # maximum density needed to set the y-axis range\n",
    "plt.ylim(0,1.1*maxrho)\n",
    "\n",
    "plt.xlabel(r'lattice site $i$', fontsize=10)\n",
    "plt.ylabel(r'density $\\rho_{i}^{(n)}$', fontsize=10)\n",
    "\n",
    "# Set the title\n",
    "#plt.title(r'Density profile, $\\alpha = $'+str(alpha), fontsize=12)\n",
    "\n",
    "plt.legend(loc='best', ncol=2)\n",
    "\n",
    "plt.tight_layout()\n",
    "\n",
    "plt.savefig('figure_tutorial1.pdf', dpi=300)\n",
    "\n",
    "plt.show()"
   ]
  },
  {
   "cell_type": "markdown",
   "metadata": {},
   "source": [
    "As we see, for this particular set of hopping rates and this value of $\\alpha$, the improvements are visible but not huge."
   ]
  },
  {
   "cell_type": "markdown",
   "metadata": {},
   "source": [
    "# 4. Plot mean density and current vs $\\alpha$"
   ]
  },
  {
   "cell_type": "markdown",
   "metadata": {},
   "source": [
    "The advantage of the PSA is that once the coefficients for given order `K` are computed, one can generate density and current for any value of $\\alpha$. First, we define a list of values of $\\alpha$."
   ]
  },
  {
   "cell_type": "code",
   "execution_count": 10,
   "metadata": {},
   "outputs": [],
   "source": [
    "# define a list with values of alpha to be computed\n",
    "\n",
    "alpha_list = [round(0.05*x,2) for x in range(21)]"
   ]
  },
  {
   "cell_type": "markdown",
   "metadata": {},
   "source": [
    "We then iterate over `alpha_list` and compute the mean density and current for each $\\alpha$ in `alpha_list`. To compute the mean density we use function `mean_density()` and to compute particle current we use function `current()`, which are defined as follows:\n",
    "\n",
    "- `mean_density()` takes the list `rho` of density profiles for each order and returns the list $[\\rho^{(0)},\\dots,\\rho^{(K)}]$, where $\\rho^{(k)}=\\sum_{i=1}^{L}\\rho_{i}^{(k)}/L$.\n",
    "- `current()` takes the list `Jcoeff` and the value of $\\alpha$, and returns the list  $[J^{(0)},\\ldots,J^{(K)}]$, where $J^{(k)}=\\sum_{n=0}^{k} J_{n}\\alpha^{n+1}$.\n",
    "\n",
    "Below, we iterate over `alpha_list` and append the mean density and current for each value of $\\alpha$ and for each order of the PSA to the lists `rho_alpha` and `J_alpha`."
   ]
  },
  {
   "cell_type": "code",
   "execution_count": 11,
   "metadata": {},
   "outputs": [],
   "source": [
    "# define empty lists where values of rho and J will be saved\n",
    "# for example, rho_alpha[n] will contain rho(alpha) for the order n,...\n",
    "rho_alpha = [[] for k in range(K+1)]\n",
    "J_alpha = [[] for k in range(K+1)]\n",
    "\n",
    "for alpha in alpha_list:\n",
    "\n",
    "    rho = local_density(rhocoeff, alpha)\n",
    "    mean_rho = mean_density(rho)\n",
    "    J = current(Jcoeff, alpha)\n",
    "\n",
    "    for k in range(K+1):\n",
    "        rho_alpha[k].append(mean_rho[k])\n",
    "        J_alpha[k].append(J[k])"
   ]
  },
  {
   "cell_type": "markdown",
   "metadata": {},
   "source": [
    "Finally, we plot $\\rho(\\alpha)$ and $J(\\alpha)$ using different colors and styles for each order."
   ]
  },
  {
   "cell_type": "code",
   "execution_count": 12,
   "metadata": {},
   "outputs": [
    {
     "data": {
      "image/png": "[encoded data removed]",
      "text/plain": [
       "<Figure size 504x168 with 2 Axes>"
      ]
     },
     "metadata": {
      "needs_background": "light"
     },
     "output_type": "display_data"
    }
   ],
   "source": [
    "import matplotlib.pyplot as plt\n",
    "import matplotlib as mpl\n",
    "\n",
    "# Choose a colormap (you can change it to your preferred one)\n",
    "color_map_density = mpl.colormaps['Blues']\n",
    "color_map_current = mpl.colormaps['Reds']\n",
    "\n",
    "# Create a new figure and axes for subfigure 1\n",
    "fig, (ax1, ax2) = plt.subplots(1, 2, figsize=(7, 7/3))\n",
    "\n",
    "# Plot the data\n",
    "\n",
    "# Define a list of linestyles\n",
    "linestyles = ['-', '--', '-.',':']\n",
    "\n",
    "#### PLOT DENSITY\n",
    "for n in range(1,K+1):\n",
    "\n",
    "    line_color = color_map_density(n/K)\n",
    "    \n",
    "    # Cycle through the linestyles list\n",
    "    line_style = linestyles[n % len(linestyles)]\n",
    "\n",
    "    ax1.plot(alpha_list, rho_alpha[n], linewidth=2, label='n=' + str(n),color=line_color, linestyle = line_style)\n",
    "    \n",
    "# Set the x and y axis labels\n",
    "ax1.set_xlabel(r'$\\alpha$', fontsize=10)\n",
    "ax1.set_ylabel(r'mean density $\\rho^{(n)}$', fontsize=10)\n",
    "ax1.text(0.05,0.85,'(a)',fontsize=10,transform=ax1.transAxes)\n",
    "\n",
    "# Add a legend\n",
    "ax1.legend(loc='upper center', fontsize=10,ncol=2)\n",
    "\n",
    "#### PLOT CURRENT\n",
    "for n in range(1,K+1):\n",
    "\n",
    "    line_color = color_map_current(n/K)\n",
    "    \n",
    "    # Cycle through the linestyles list\n",
    "    line_style = linestyles[n % len(linestyles)]\n",
    "\n",
    "    #if n != 0:\n",
    "    ax2.plot(alpha_list, J_alpha[n], linewidth=2, label='n=' + str(n),\n",
    "                color=line_color, linestyle=line_style)\n",
    "    \n",
    "# Set the x and y axis labels\n",
    "ax2.set_xlabel(r'$\\alpha$', fontsize=10)\n",
    "ax2.set_ylabel(r'current $J^{(n)}$', fontsize=10)\n",
    "ax2.text(0.05,0.85,'(b)',fontsize=10,transform=ax2.transAxes)\n",
    "\n",
    "# Adjust the plot layout\n",
    "plt.tight_layout()\n",
    "\n",
    "# Add a legend\n",
    "ax2.legend(loc='upper center',fontsize=10, ncol=2)\n",
    "\n",
    "plt.savefig('figure_tutorial2.pdf', dpi=300)\n",
    "\n",
    "# Show the plot\n",
    "plt.show()"
   ]
  },
  {
   "cell_type": "markdown",
   "metadata": {},
   "source": [
    "Plotting density and current vs $\\alpha$ is useful for estimating values of $\\alpha$ for which the PSA of given order $K$ is no longer a good approximation. As $\\alpha$ is increased, the last term in the PSA begins to dominate, leading to wrong values of density and current. We know that the bounds are $0\\leq \\rho_i\\leq 1$ for the density, and $0\\leq J\\leq \\alpha$ for the current, so any value outside those bounds indicates that $\\alpha$ is too big. \n",
    "\n",
    "We also expect the density and current to be non-decreasing in $\\alpha$. Their values may eventually saturate when the slowest hopping rate becomes rate-limiting, but we do not expect them to deacrease in $\\alpha$. This can be easily checked by computing the first derivative with respect to $\\alpha$. We expect the PSA to fail for $\\alpha$ for which the first derivative of mean density or current becomes negative. \n",
    "\n",
    "Below, we find the smallest $\\alpha$ in `alpha_list` for which any of the conditions above is not fulfilled. This value can be taken as an approximate $\\alpha$ at which the PSA at this particular order is no longer realiable. In practice, it is best to consider $\\alpha$ that is much smaller than this value. "
   ]
  },
  {
   "cell_type": "code",
   "execution_count": 13,
   "metadata": {},
   "outputs": [],
   "source": [
    "def derivative(a, x):\n",
    "    result = 0\n",
    "    n = 0\n",
    "    for an in a:\n",
    "        n += 1\n",
    "        result += an * n * x**(n-1)\n",
    "    return result"
   ]
  },
  {
   "cell_type": "code",
   "execution_count": 14,
   "metadata": {},
   "outputs": [
    {
     "name": "stdout",
     "output_type": "stream",
     "text": [
      "Derivative of the particle current is greater than 1 for alpha = 0.75\n",
      "Derivative of the mean density is less than 0 for alpha = 0.8\n",
      "Particle current is greater than alpha for alpha = 0.95\n"
     ]
    }
   ],
   "source": [
    "alpha_found1 = False\n",
    "alpha_found2 = False\n",
    "alpha_found3 = False\n",
    "alpha_found4 = False\n",
    "alpha_found5 = False\n",
    "alpha_found6 = False\n",
    "alpha_found7 = False\n",
    "\n",
    "for alpha in alpha_list:\n",
    "    \n",
    "    # current\n",
    "    J = current(Jcoeff, alpha)[-1]\n",
    "    \n",
    "    # derivative of the current\n",
    "    dJ = derivative(Jcoeff, alpha)\n",
    "    \n",
    "    # mean density\n",
    "    rho = local_density(rhocoeff, alpha)\n",
    "    mean_rho = mean_density(rho)[-1]\n",
    "    \n",
    "    # derivative of the mean density\n",
    "    mean_rhocoeff = []\n",
    "    for order in range(1,K+1):\n",
    "        rhocoeff_sum = 0\n",
    "        for site in range(L):\n",
    "            rhocoeff_sum += rhocoeff[site][order]\n",
    "        mean_rhocoeff.append(rhocoeff_sum/L)\n",
    "    dmean_rho = derivative(mean_rhocoeff, alpha)\n",
    "\n",
    "    if (mean_rho < 0) and (alpha_found1 == False):\n",
    "        alpha_found1 = True\n",
    "        print('Mean density is less than 0 for alpha =',alpha)\n",
    "    \n",
    "    if (mean_rho > 1) and (alpha_found2 == False):\n",
    "        alpha_found2 = True\n",
    "        print('Mean density is greater than 1 for alpha =',alpha)\n",
    "        \n",
    "    if (dmean_rho < 0) and (alpha_found3 == False):\n",
    "        alpha_found3 = True\n",
    "        print('Derivative of the mean density is less than 0 for alpha =',alpha)\n",
    "        \n",
    "    if (J < 0) and (alpha_found4 == False):\n",
    "        alpha_found4 = True\n",
    "        print('Particle current is less than 0 for alpha =',alpha)\n",
    "        \n",
    "    if (J > alpha) and (alpha_found5 == False):\n",
    "        alpha_found5 = True\n",
    "        print('Particle current is greater than alpha for alpha =',alpha)\n",
    "        \n",
    "    if (dJ < 0) and (alpha_found6 == False):\n",
    "        alpha_found6 = True\n",
    "        print('Derivative of the particle current is less than 0 for alpha =',alpha)\n",
    "        \n",
    "    if (dJ > 1) and (alpha_found7 == False):\n",
    "        alpha_found7 = True\n",
    "        print('Derivative of the particle current is greater than 1 for alpha =',alpha)"
   ]
  },
  {
   "cell_type": "code",
   "execution_count": null,
   "metadata": {},
   "outputs": [],
   "source": []
  }
 ],
 "metadata": {
  "kernelspec": {
   "display_name": "Python 3 (ipykernel)",
   "language": "python",
   "name": "python3"
  },
  "language_info": {
   "codemirror_mode": {
    "name": "ipython",
    "version": 3
   },
   "file_extension": ".py",
   "mimetype": "text/x-python",
   "name": "python",
   "nbconvert_exporter": "python",
   "pygments_lexer": "ipython3",
   "version": "3.9.7"
  }
 },
 "nbformat": 4,
 "nbformat_minor": 2
}
