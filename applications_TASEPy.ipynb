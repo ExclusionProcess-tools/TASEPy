{
 "cells": [
  {
   "cell_type": "markdown",
   "id": "4ed33961",
   "metadata": {},
   "source": [
    "# TASEPy applications"
   ]
  },
  {
   "cell_type": "markdown",
   "id": "6eddb3fe",
   "metadata": {},
   "source": [
    "The totally asymmetric simple exclusion process (TASEP) has been introduced as a model of biopolymerization, where the mRNA is represented as a one-dimensional lattice with discrete sites corresponding to codons. The dynamics of ribosomes on the mRNA is modeled with particles moving from site to site on the lattice."
   ]
  },
  {
   "cell_type": "code",
   "execution_count": 1,
   "id": "22d51495",
   "metadata": {},
   "outputs": [],
   "source": [
    "# import methods from TASEPy\n",
    "\n",
    "from TASEPy import psa_compute\n",
    "from TASEPy import local_density\n",
    "from TASEPy import mean_density\n",
    "from TASEPy import current\n",
    "\n",
    "# to measure computation time\n",
    "import time"
   ]
  },
  {
   "cell_type": "markdown",
   "id": "0f0c98bd",
   "metadata": {},
   "source": [
    "## Estimating translation initiation rate $\\alpha$ from polysome profiling data"
   ]
  },
  {
   "cell_type": "markdown",
   "id": "5555726b",
   "metadata": {},
   "source": [
    "As an application of the TASEPy package, we demonstrate how to infer the initiation rate $\\alpha$ when the hopping rates $\\omega_i$ (representing codon-dependent ribosome speed) and the mean density $\\rho$ (indicating the average number of ribosomes divided by the length of the mRNA in codon units) are known. The mean ribosome density can be measured using polysome profiling, and the codon-dependent hopping rates have been estimated based on tRNA concentrations.\n",
    "\n",
    "Thus, by predicring $\\rho(\\alpha)$ with TASEPy and with the experimental value $\\rho_\\textrm{exp}$, we can infer the value of $\\alpha$. First, we import a file containing hopping rates for the YAL008W gene of *S. cerevisiae*, which have been estimated in Ciandrini L, Stansfield I, Romano MC (2013) *Ribosome Traffic on mRNAs Maps to Gene Ontology: Genome-wide Quantification of Translation Initiation Rates and Polysome Size Regulation*. PLoS Comput Biol 9(1): e1002866. https://doi.org/10.1371/journal.pcbi.1002866"
   ]
  },
  {
   "cell_type": "code",
   "execution_count": 250,
   "id": "ddd9e56f",
   "metadata": {},
   "outputs": [],
   "source": [
    "# imports hopping rates YAL008W_rates.dat\n",
    "\n",
    "with open('applications/YAL008W_rates.dat', 'r') as file:\n",
    "    rates = [float(line.split()[1]) for line in file]"
   ]
  },
  {
   "cell_type": "markdown",
   "id": "c8396870",
   "metadata": {},
   "source": [
    "Next, we set particle size $\\ell=9$ as in the reference above, and choose the order of PSA $K=3$. This takes about 11 seconds to solve on a laptop with Intel i7-8565U CPU and 16 GB of RAM, and less than 7 seconds on an Apple M1 Pro with 32 GB of RAM."
   ]
  },
  {
   "cell_type": "code",
   "execution_count": 251,
   "id": "edcc836b",
   "metadata": {},
   "outputs": [
    {
     "name": "stdout",
     "output_type": "stream",
     "text": [
      "Lattice size: 198 codons\n",
      "Computation time: 8.366 seconds\n"
     ]
    }
   ],
   "source": [
    "# computes the PSA for order K = 3\n",
    "\n",
    "L = len(rates) # lattice size\n",
    "ll = 9 # particle size\n",
    "K = 3 # maximum PSA order\n",
    "\n",
    "print('Lattice size:',L,'codons')\n",
    "\n",
    "start = time.time()\n",
    "rhocoeff, Jcoeff = psa_compute(rates, K, ll)\n",
    "end = time.time()\n",
    "print('Computation time:',round(end-start,3),'seconds')"
   ]
  },
  {
   "cell_type": "markdown",
   "id": "973bbfee",
   "metadata": {},
   "source": [
    "We then need to compute the mean density coefficients $\\rho_n=\\sum_{i=1}^{L}\\rho_{i,n}/L$ for $n=0,\\dots,K$ as in Eq.(25c) of the paper introducing the algorothm used in TASEPy (Ciandrini, Crisostomo and Szavits-Nossan, 2023)."
   ]
  },
  {
   "cell_type": "code",
   "execution_count": 252,
   "id": "e0eb7dc4",
   "metadata": {},
   "outputs": [
    {
     "name": "stdout",
     "output_type": "stream",
     "text": [
      "[0.0, 0.1806069864721105, -0.20947619500711065, 0.32647921092495436]\n"
     ]
    }
   ],
   "source": [
    "# computes mean density coefficients\n",
    "\n",
    "mean_rhocoeff = []\n",
    "for order in range(0,K+1):\n",
    "    rhocoeff_sum = 0\n",
    "    for site in range(L):\n",
    "        rhocoeff_sum += rhocoeff[site][order]\n",
    "    mean_rhocoeff.append(rhocoeff_sum/L)\n",
    "print(mean_rhocoeff)"
   ]
  },
  {
   "cell_type": "markdown",
   "id": "f030a787",
   "metadata": {},
   "source": [
    "Next, we set up the function whose root we want to find: \n",
    "$$f(\\alpha)=\\rho(\\alpha)-\\rho_{\\text{exp}},$$\n",
    "where $\\rho(\\alpha)\\approx\\sum_{n=0}^{K}\\rho_n \\alpha^n$ is the mean density computed using TASEPy for a given value of the initiation rate $\\alpha$, and $\\rho_{\\text{exp}}$ is the mean density measured experimentally, see the cited Ciandrini et (2013) reference for more details. Since $f(\\alpha)$ is a polynomial, we can also find its derivative, in which case we can use the Newton-Raphson method for solving $f(\\alpha)=0$."
   ]
  },
  {
   "cell_type": "code",
   "execution_count": 253,
   "id": "2d2df6b5",
   "metadata": {},
   "outputs": [],
   "source": [
    "# root finding algorithm\n",
    "from scipy import optimize\n",
    "\n",
    "# experimental mean density\n",
    "rhoexp = 0.023226\n",
    "\n",
    "# in the functions below x is the initation rate (alpha)\n",
    "def f(x,a):\n",
    "    result = -rhoexp\n",
    "    for order,coeff in enumerate(a):\n",
    "        result += coeff * x**order\n",
    "    return result\n",
    "\n",
    "def fprime(x,a):\n",
    "    result = 0\n",
    "    for order,coeff in enumerate(a):\n",
    "        if order > 0:\n",
    "            result += coeff * order * x**(order-1)\n",
    "    return result"
   ]
  },
  {
   "cell_type": "markdown",
   "id": "74439bf8",
   "metadata": {},
   "source": [
    "As the initial guess, we can use the first-order approximation of the PSA, $\\rho_{\\text{exp}}\\approx \\rho_{1}\\alpha$."
   ]
  },
  {
   "cell_type": "code",
   "execution_count": 254,
   "id": "feb1231b",
   "metadata": {},
   "outputs": [
    {
     "name": "stdout",
     "output_type": "stream",
     "text": [
      "Initial value: 0.12859967631200458\n"
     ]
    }
   ],
   "source": [
    "# initial guess\n",
    "alpha0 = rhoexp/mean_rhocoeff[1]\n",
    "print('Initial value:',alpha0)"
   ]
  },
  {
   "cell_type": "markdown",
   "id": "a9e4e3cd",
   "metadata": {},
   "source": [
    "Finally, we call the optimize function from the scipy package to find the root."
   ]
  },
  {
   "cell_type": "code",
   "execution_count": 255,
   "id": "9c74cb36",
   "metadata": {},
   "outputs": [
    {
     "name": "stdout",
     "output_type": "stream",
     "text": [
      "Optimal value: 0.14818676243771686\n"
     ]
    }
   ],
   "source": [
    "alpha = optimize.newton(f, alpha0, fprime, args=(mean_rhocoeff,))\n",
    "print('Optimal value:',alpha)"
   ]
  },
  {
   "cell_type": "markdown",
   "id": "2b366f01",
   "metadata": {},
   "source": [
    "This value is very close to the one obtained from stochastic simulations in the cited Ciandrini et al (2013) paper. The relative error is about 1.5\\%."
   ]
  },
  {
   "cell_type": "code",
   "execution_count": 257,
   "id": "957eb3a1",
   "metadata": {},
   "outputs": [
    {
     "name": "stdout",
     "output_type": "stream",
     "text": [
      "Relative percentage error: 1.5363806817873418\n"
     ]
    }
   ],
   "source": [
    "# value reported in Ciandrini L, Stansfield I, Romano MC (2013) \n",
    "# Ribosome Traffic on mRNAs Maps to Gene Ontology: Genome-wide \n",
    "# Quantification of Translation Initiation Rates and Polysome \n",
    "# Size Regulation. PLoS Comput Biol 9(1): e1002866. \n",
    "# https://doi.org/10.1371/journal.pcbi.1002866\n",
    "\n",
    "alpha_paper = 0.150499\n",
    "per_err = 100 * abs(alpha_paper-alpha)/alpha_paper\n",
    "print('Relative percentage error:',per_err)"
   ]
  },
  {
   "cell_type": "markdown",
   "id": "e68ec0a2",
   "metadata": {},
   "source": [
    "---\n",
    "\n",
    "## Estimating translation elongation rates from ribosome profiling data"
   ]
  },
  {
   "cell_type": "markdown",
   "id": "3851a361",
   "metadata": {},
   "source": [
    "We now solve a different problem, in which the mean density $\\rho_{\\text{exp}}$ is known, as well as the local densities $\\rho_{i}$ for $i=1,\\dots,L$, but the elongation rates $\\omega_i$ for $i=1,\\dots,L$ and the initiation rate $\\alpha$ are unknown. This problem is inspired by experimental ribosome profiling data, in which the occupancy of the ribosomes (particles) is known on each codon (lattice site). Here we present a simplifed version of that, and assume that the ratio $\\rho_i/\\rho$ is known. \n",
    "\n",
    "The approach is explained in detail in J. Szavits-Nossan , L. Ciandrini (2020) *Inferring efficiency of translation initiation and elongation from ribosome profiling*. Nucleic Acids Research 48(17):9478-9490, https://doi.org/10.1093/nar/gkaa678, which makes use of the power series approximation (PSA) of the TASEP (up to order $n=3$).\n",
    "\n",
    "First, we note that since the local density $\\rho_i$ is dimensionless, we can only find the ratios $\\omega_i/\\alpha$ for $i=1,\\dots,L$, not the absolute elongation rates $\\omega_i$. Let us denote by $\\kappa_i$ the ratio\n",
    "    $$\\kappa_i=\\frac{\\omega_i}{\\alpha}, \\quad i=1,\\dots,L.$$\n",
    "We want to find $\\kappa_1,\\dots,\\kappa_L$ such that\n",
    "\\begin{equation}\n",
    "    \\rho_i(\\kappa_1,\\dots,\\kappa_L)=\\rho_{i,\\text{exp}},\\quad i=1,\\dots,L, \\tag{1}\n",
    "\\end{equation}\n",
    "\n",
    "where the left-hand side is the local density predicted by the TASEP, and the right-hand side is the experimentally measured density. This problem can be solved by minimising the objective function\n",
    "\\begin{equation}\n",
    "    D(\\kappa_1,\\dots,\\kappa_L)=\\sqrt{\\frac{\\sum_{i=1}^{L}[\\rho_{i}(\\kappa_1,\\dots,\\kappa_L)-\\rho_{i,\\text{exp}}]^2}{L}}, \\tag{2}\n",
    "\\end{equation}\n",
    "\n",
    "which is also known as the root mean square deviation (RMSD). Here we demonstrate how to solve this problem using TASEPy and SciPy repositories. We will not use real ribosome profiling data, instead we use mock data obtained using stochastic simulations for a given set of randomly selected hopping rates $\\omega_i$ and a given value of the initiation rate $\\alpha$. We will then use TASEPy to restore the values of $\\kappa_i=\\omega_i/\\alpha$ and compare them to the original ones."
   ]
  },
  {
   "cell_type": "code",
   "execution_count": 258,
   "id": "01545121",
   "metadata": {},
   "outputs": [],
   "source": [
    "# import random number generator\n",
    "from statistics import random\n",
    "\n",
    "# import minimization algoritm\n",
    "from scipy import optimize"
   ]
  },
  {
   "cell_type": "markdown",
   "id": "9d03a3d6",
   "metadata": {},
   "source": [
    "In order to demonstrate the methodology, we select a relatively small lattice size $L=20$ and $\\ell=1$. "
   ]
  },
  {
   "cell_type": "code",
   "execution_count": 259,
   "id": "349646f5",
   "metadata": {},
   "outputs": [],
   "source": [
    "# declare parameters\n",
    "\n",
    "# lattice size\n",
    "L = 20\n",
    "\n",
    "# particle size (in lattice sites)\n",
    "ll = 1\n",
    "\n",
    "# list of particle hopping rates selected randomly from interval [1,10]\n",
    "# unless changing the seed, the outcome can be compared to the stochastic simulations\n",
    "# stored in this directory\n",
    "random_seed = random.seed(1234)\n",
    "rates = [random.uniform(1,10) for site in range(L)] \n",
    " \n",
    "# maximum order of the PSA\n",
    "K = 3\n",
    "\n",
    "# initiation rate\n",
    "alpha = 0.2"
   ]
  },
  {
   "cell_type": "markdown",
   "id": "eb95b344",
   "metadata": {},
   "source": [
    "The rates are stored in the file *applications/rates_L20.dat*."
   ]
  },
  {
   "cell_type": "code",
   "execution_count": 260,
   "id": "7460518d",
   "metadata": {},
   "outputs": [],
   "source": [
    "with open('applications/rates_L20.dat', 'w') as file:\n",
    "    n = 0\n",
    "    for rate in rates:\n",
    "        if n < L-1: \n",
    "            file.write(str(rate)+'\\n')\n",
    "        else:\n",
    "            file.write(str(rate))\n",
    "        n += 1"
   ]
  },
  {
   "cell_type": "markdown",
   "id": "1966d256",
   "metadata": {},
   "source": [
    "For these set of parameters, we obtained the local densities using stochastic simulations (see *simulations/dTASEPe.f90* for the Fortran source file), which are stored in the file *applications/rho_a02_L20_ll1_iter1e6.dat*."
   ]
  },
  {
   "cell_type": "code",
   "execution_count": 261,
   "id": "c04e63e9",
   "metadata": {},
   "outputs": [],
   "source": [
    "# imports local densities (mock data)\n",
    "\n",
    "with open('applications/rho_a02_L20_ll1_iter1e6.dat', 'r') as file:\n",
    "    rhoexp = [float(line) for line in file]"
   ]
  },
  {
   "cell_type": "markdown",
   "id": "18d61679",
   "metadata": {},
   "source": [
    "Let us see first how the local density obtained using TASEPy with the original hopping rates compares to the one obtained by stochastic simulations. For real data, we can only check this at the end with the inferred rates."
   ]
  },
  {
   "cell_type": "code",
   "execution_count": 262,
   "id": "15dc66c1",
   "metadata": {},
   "outputs": [
    {
     "data": {
      "image/png": "[encoded data removed]",
      "text/plain": [
       "<Figure size 700x233.333 with 1 Axes>"
      ]
     },
     "metadata": {},
     "output_type": "display_data"
    }
   ],
   "source": [
    "kappa_original = [rate/alpha for rate in rates]\n",
    "\n",
    "rhocoeff, Jcoeff = psa_compute(kappa_original, K, ll)\n",
    "rho = local_density(rhocoeff, 1.0)[-1]\n",
    "\n",
    "import matplotlib.pyplot as plt\n",
    "\n",
    "# Create a figure \n",
    "plt.figure(figsize=(7,7/3))\n",
    "\n",
    "# Plot the data\n",
    "\n",
    "sites = [x + 1 for x in range(L)]\n",
    "plt.plot(sites, rhoexp, linewidth=2, label='sims')\n",
    "plt.plot(sites, rho, linewidth=2, label='n='+str(K))\n",
    "\n",
    "plt.xlabel(r'lattice site $i$', fontsize=10)\n",
    "plt.ylabel(r'density $\\rho_{i}$', fontsize=10)\n",
    "\n",
    "plt.legend(loc='best',ncol=2)\n",
    "plt.tight_layout()\n",
    "\n",
    "plt.show()"
   ]
  },
  {
   "cell_type": "markdown",
   "id": "1c4e70bb",
   "metadata": {},
   "source": [
    "We see that the order of $K=3$ is applicable to our problem, so we proceed with the minimization procedure. \n",
    "\n",
    "For the initial values of the ratios $\\kappa_i$, we employ the mean-field approximation, which ignores correlations between neighbouring lattice sites, leading to the following set of equations:\n",
    "\\begin{align}\n",
    "    & \\kappa_i=\\frac{\\left(1-\\sum_{s=1}^{\\ell}\\rho_{s,\\text{exp}}\\right)\\left(1-\\sum_{s=1}^{\\ell}\\rho_{i+s,\\text{exp}}+\\rho_{i+\\ell,\\text{exp}}\\right)}{\\rho_{i,exp}\\left(1-\\sum_{s=1}^{\\ell}\\rho_{s,\\text{exp}}\\right)},\\quad i=1,\\dots,L-\\ell \\tag{3}\\\\\n",
    "    & \\kappa_i=\\frac{\\left(1-\\sum_{s=1}^{\\ell}\\rho_{s,\\text{exp}}\\right)}{\\rho_{i,exp}},\\quad i=L-\\ell+1,\\dots,L . \\tag{4}\n",
    "\\end{align}"
   ]
  },
  {
   "cell_type": "code",
   "execution_count": 263,
   "id": "1e0c799d",
   "metadata": {},
   "outputs": [],
   "source": [
    "kappa0 = []\n",
    "for site in range(L):\n",
    "    sum1 = sum(rhoexp[:ll])\n",
    "    if site < L-ll:\n",
    "        sum2 = sum(rhoexp[site:site+ll+1])\n",
    "        kappa_site = (1-sum1)*(1-sum2+rhoexp[site+ll])/(rhoexp[site]*(1-sum1))\n",
    "    else:\n",
    "        kappa_site = (1-sum1)/rhoexp[site]\n",
    "    kappa0.append(kappa_site)"
   ]
  },
  {
   "cell_type": "markdown",
   "id": "c9884070",
   "metadata": {},
   "source": [
    "We can check how close these initial values are to the real ones: they are close but there are obvious deviations."
   ]
  },
  {
   "cell_type": "code",
   "execution_count": 264,
   "id": "cc3d3818",
   "metadata": {},
   "outputs": [
    {
     "data": {
      "image/png": "[encoded data removed]",
      "text/plain": [
       "<Figure size 600x400 with 1 Axes>"
      ]
     },
     "metadata": {},
     "output_type": "display_data"
    }
   ],
   "source": [
    "# Create a figure \n",
    "plt.figure(figsize=(6,4))\n",
    "\n",
    "# Plot the data\n",
    "\n",
    "min_kappa = min(rates)/alpha\n",
    "max_kappa = max(rates)/alpha\n",
    "linearx = [min_kappa,max_kappa]\n",
    "\n",
    "plt.scatter(kappa0, kappa_original,label='mean-field')\n",
    "plt.plot(linearx, linearx, linestyle='--', color='gray',label='y=x')\n",
    "\n",
    "plt.xlim(0,1.1*max(rates)/alpha)\n",
    "plt.ylim(0,1.1*max(rates)/alpha)\n",
    "\n",
    "plt.xlabel(r'$\\kappa_i$ (mean-field)', fontsize=12)\n",
    "plt.ylabel(r'$\\kappa_i$ (original)', fontsize=12)\n",
    "\n",
    "# Set the title\n",
    "plt.title(r'Comparing initial (mean-field) and original $\\kappa$', fontsize=12)\n",
    "\n",
    "plt.legend(loc='best')\n",
    "plt.tight_layout()\n",
    "\n",
    "plt.show()"
   ]
  },
  {
   "cell_type": "markdown",
   "id": "d3f0f1df",
   "metadata": {},
   "source": [
    "We now set up the minimisation procedure using the Powell method and `scipy.optimize.minimize`, which has an option to set up parameter bounds. In our case, we know that $0<\\kappa_i<\\infty$ for $i=1,\\dots,L$. In practice, we can use smaller bounds, e.g. $10^{-2}$ instead of $0$ and $10^{5}$ instead of $\\infty$. This optimization procedure takes about 3 minutes on a laptop with Intel i7-8565U CPU and 16 GB of RAM, and about 2 minutes on an Apple M1 Pro with 32 GB of RAM."
   ]
  },
  {
   "cell_type": "code",
   "execution_count": 266,
   "id": "368ef9ba",
   "metadata": {},
   "outputs": [],
   "source": [
    "import numpy as np\n",
    "import math\n",
    "\n",
    "# set up the objective function\n",
    "def fun(kappa, K, ll, rhoexp):\n",
    "    rhocoeff, Jcoeff = psa_compute(kappa, K, ll)\n",
    "    rho = local_density(rhocoeff, 1.0)[-1]\n",
    "    D = 0\n",
    "    for i in range(L):\n",
    "        D += (rho[i]-rhoexp[i])**2\n",
    "    D = math.sqrt(D/L)\n",
    "    return D\n",
    "\n",
    "# set up linear constraint\n",
    "A = np.identity(L)\n",
    "lower = np.array([1e-2 for site in range(L)]) # lower bound\n",
    "upper = np.array([1e5 for site in range(L)]) # upper bound\n",
    "cons = optimize.LinearConstraint(A, lower, upper)\n",
    "\n",
    "# set up bounds (must be tuples)\n",
    "bnds = ((1e-2,1e5),)*L"
   ]
  },
  {
   "cell_type": "code",
   "execution_count": 267,
   "id": "6ef6e60b",
   "metadata": {},
   "outputs": [
    {
     "name": "stdout",
     "output_type": "stream",
     "text": [
      "Started optimization... Optimization terminated successfully.\n",
      "         Current function value: 0.000001\n",
      "         Iterations: 17\n",
      "         Function evaluations: 10180\n",
      "Done.\n",
      "Computation time: 175.317 seconds\n"
     ]
    },
    {
     "data": {
      "text/plain": [
       " message: Optimization terminated successfully.\n",
       " success: True\n",
       "  status: 0\n",
       "     fun: 1.143017831702802e-06\n",
       "       x: [ 5.308e+01  2.575e+01 ...  5.707e+00  2.712e+01]\n",
       "     nit: 17\n",
       "   direc: [[ 0.000e+00  0.000e+00 ...  0.000e+00  1.000e+00]\n",
       "           [ 0.000e+00  1.000e+00 ...  0.000e+00  0.000e+00]\n",
       "           ...\n",
       "           [ 0.000e+00  0.000e+00 ...  1.000e+00  0.000e+00]\n",
       "           [ 2.464e-03  7.772e-04 ...  9.703e-06 -4.073e-05]]\n",
       "    nfev: 10180"
      ]
     },
     "execution_count": 267,
     "metadata": {},
     "output_type": "execute_result"
    }
   ],
   "source": [
    "start = time.time()\n",
    "\n",
    "# COBYLA method (constrained optimization, derivative-free)\n",
    "#kappa = optimize.minimize(fun, kappa0, args=(K, ll, rhoexp), method='COBYLA', constraints=cons, options={'maxiter':5e4,'disp': True})\n",
    "\n",
    "# Powell method (bounded optimization, derivative-free)\n",
    "kappa = optimize.minimize(fun, kappa0, args=(K, ll, rhoexp), method='Powell', bounds=bnds, options={'ftol': 1e-3, 'xtol': 1e-3, 'disp': True})\n",
    "\n",
    "end = time.time()\n",
    "print('Computation time:',round(end-start,3),'seconds')\n",
    "\n",
    "# print info\n",
    "kappa"
   ]
  },
  {
   "cell_type": "markdown",
   "id": "4a3e7970",
   "metadata": {},
   "source": [
    "Having inferred the set of $\\kappa_i$'s stored in `kappa` from the particle density profile, we now compare them to the `kappa_original` which have been used to produce the density profile with stochastic simulations."
   ]
  },
  {
   "cell_type": "code",
   "execution_count": 268,
   "id": "5d0e3c4c",
   "metadata": {},
   "outputs": [
    {
     "data": {
      "image/png": "[encoded data removed]",
      "text/plain": [
       "<Figure size 600x400 with 1 Axes>"
      ]
     },
     "metadata": {},
     "output_type": "display_data"
    }
   ],
   "source": [
    "# Create a figure \n",
    "plt.figure(figsize=(6,4))\n",
    "\n",
    "# Plot the data\n",
    "\n",
    "min_kappa = min(rates)/alpha\n",
    "max_kappa = max(rates)/alpha\n",
    "linearx = [min_kappa,max_kappa]\n",
    "\n",
    "plt.scatter(kappa.x, kappa_original,label='inferred')\n",
    "plt.plot(linearx, linearx, linestyle='--', color='gray',label='y=x')\n",
    "\n",
    "plt.xlim(0,1.1*max(rates)/alpha)\n",
    "plt.ylim(0,1.1*max(rates)/alpha)\n",
    "\n",
    "plt.xlabel(r'$\\kappa_i$ (inferred)', fontsize=12)\n",
    "plt.ylabel(r'$\\kappa_i$ (original)', fontsize=12)\n",
    "\n",
    "# Set the title\n",
    "plt.title(r'Comparing inferred and original $\\kappa$', fontsize=12)\n",
    "\n",
    "plt.legend(loc='best')\n",
    "plt.tight_layout()\n",
    "\n",
    "plt.show()"
   ]
  },
  {
   "cell_type": "markdown",
   "id": "ca391811",
   "metadata": {},
   "source": [
    "The Pearson's correlation coefficient for these two data set is:"
   ]
  },
  {
   "cell_type": "code",
   "execution_count": 274,
   "id": "f882a168",
   "metadata": {},
   "outputs": [
    {
     "name": "stdout",
     "output_type": "stream",
     "text": [
      "Pearson's correlation coefficient: 0.9980523506928205\n"
     ]
    }
   ],
   "source": [
    "from scipy import stats\n",
    "\n",
    "R = stats.pearsonr(kappa_original,kappa.x)\n",
    "\n",
    "print('Pearson\\'s correlation coefficient:', R.statistic)"
   ]
  },
  {
   "cell_type": "markdown",
   "id": "70a83264",
   "metadata": {},
   "source": [
    "Finally, we store the inferred ratios $\\kappa_i$ for $i=1,\\dots,L$ in the file *applications/rates_L20-inferred.dat*."
   ]
  },
  {
   "cell_type": "code",
   "execution_count": 275,
   "id": "a1c4407b",
   "metadata": {},
   "outputs": [],
   "source": [
    "with open('applications/kappa_L20-inferred.dat', 'w') as file:\n",
    "    n = 0\n",
    "    for rate in kappa.x:\n",
    "        if n < L-1: \n",
    "            file.write(str(rate)+'\\n')\n",
    "        else:\n",
    "            file.write(str(rate))\n",
    "        n += 1"
   ]
  },
  {
   "cell_type": "markdown",
   "id": "8a178904",
   "metadata": {},
   "source": [
    "We also save all the information from the minimization procedure in a separate file *kappa_L20-minimize.log*, except the inferred ratios."
   ]
  },
  {
   "cell_type": "code",
   "execution_count": 20,
   "id": "ba81c2c9",
   "metadata": {},
   "outputs": [],
   "source": [
    "dict_keys = []\n",
    "dict_values = []\n",
    "for keys, value in kappa.items():\n",
    "    dict_keys.append(keys)\n",
    "    dict_values.append(value)\n",
    "    \n",
    "with open('applications/kappa_L20-minimize.log', 'w') as file:\n",
    "    for i in range(1,len(dict_keys)):\n",
    "        file.write(dict_keys[i]+' : '+str(dict_values[i])+'\\n')"
   ]
  }
 ],
 "metadata": {
  "kernelspec": {
   "display_name": "Python 3 (ipykernel)",
   "language": "python",
   "name": "python3"
  },
  "language_info": {
   "codemirror_mode": {
    "name": "ipython",
    "version": 3
   },
   "file_extension": ".py",
   "mimetype": "text/x-python",
   "name": "python",
   "nbconvert_exporter": "python",
   "pygments_lexer": "ipython3",
   "version": "3.9.15"
  }
 },
 "nbformat": 4,
 "nbformat_minor": 5
}
